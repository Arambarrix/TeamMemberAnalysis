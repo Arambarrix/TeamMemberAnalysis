{
 "cells": [
  {
   "cell_type": "code",
   "execution_count": 11,
   "metadata": {},
   "outputs": [
    {
     "name": "stdout",
     "output_type": "stream",
     "text": [
      "http://localhost:8080/api/equipes\n"
     ]
    }
   ],
   "source": [
    "import sys,requests as rq,pandas as pd\n",
    "sys.path.insert(0,\"../projectanalysis\")\n",
    "from config import *\n",
    "print(equipes_endpoints)"
   ]
  },
  {
   "cell_type": "code",
   "execution_count": 13,
   "metadata": {},
   "outputs": [
    {
     "name": "stdout",
     "output_type": "stream",
     "text": [
      "[{'id': '64a41b3bafd74071b415f699', 'nom': 'Masson', 'prenom': 'Léa', 'pseudo': 'lmasson', 'mdp': None, 'equipes': None}, {'id': '64a41b51afd74071b415f69a', 'nom': 'Iavarone', 'prenom': 'Louis', 'pseudo': 'liavarone', 'mdp': None, 'equipes': None}, {'id': '64a41b74afd74071b415f69b', 'nom': 'Kourouma', 'prenom': 'Paul', 'pseudo': 'pkourouma', 'mdp': None, 'equipes': None}, {'id': '64a41b82afd74071b415f69c', 'nom': 'Touré', 'prenom': 'William', 'pseudo': 'wtoure', 'mdp': None, 'equipes': None}, {'id': '64a41b90afd74071b415f69d', 'nom': 'Evola', 'prenom': 'Ugo', 'pseudo': 'uevola', 'mdp': None, 'equipes': None}]\n"
     ]
    },
    {
     "data": {
      "text/html": [
       "<div>\n",
       "<style scoped>\n",
       "    .dataframe tbody tr th:only-of-type {\n",
       "        vertical-align: middle;\n",
       "    }\n",
       "\n",
       "    .dataframe tbody tr th {\n",
       "        vertical-align: top;\n",
       "    }\n",
       "\n",
       "    .dataframe thead th {\n",
       "        text-align: right;\n",
       "    }\n",
       "</style>\n",
       "<table border=\"1\" class=\"dataframe\">\n",
       "  <thead>\n",
       "    <tr style=\"text-align: right;\">\n",
       "      <th></th>\n",
       "      <th>id</th>\n",
       "      <th>nom</th>\n",
       "      <th>prenom</th>\n",
       "      <th>pseudo</th>\n",
       "      <th>mdp</th>\n",
       "      <th>equipes</th>\n",
       "    </tr>\n",
       "  </thead>\n",
       "  <tbody>\n",
       "    <tr>\n",
       "      <th>0</th>\n",
       "      <td>64a41b3bafd74071b415f699</td>\n",
       "      <td>Masson</td>\n",
       "      <td>Léa</td>\n",
       "      <td>lmasson</td>\n",
       "      <td>None</td>\n",
       "      <td>None</td>\n",
       "    </tr>\n",
       "    <tr>\n",
       "      <th>1</th>\n",
       "      <td>64a41b51afd74071b415f69a</td>\n",
       "      <td>Iavarone</td>\n",
       "      <td>Louis</td>\n",
       "      <td>liavarone</td>\n",
       "      <td>None</td>\n",
       "      <td>None</td>\n",
       "    </tr>\n",
       "    <tr>\n",
       "      <th>2</th>\n",
       "      <td>64a41b74afd74071b415f69b</td>\n",
       "      <td>Kourouma</td>\n",
       "      <td>Paul</td>\n",
       "      <td>pkourouma</td>\n",
       "      <td>None</td>\n",
       "      <td>None</td>\n",
       "    </tr>\n",
       "    <tr>\n",
       "      <th>3</th>\n",
       "      <td>64a41b82afd74071b415f69c</td>\n",
       "      <td>Touré</td>\n",
       "      <td>William</td>\n",
       "      <td>wtoure</td>\n",
       "      <td>None</td>\n",
       "      <td>None</td>\n",
       "    </tr>\n",
       "    <tr>\n",
       "      <th>4</th>\n",
       "      <td>64a41b90afd74071b415f69d</td>\n",
       "      <td>Evola</td>\n",
       "      <td>Ugo</td>\n",
       "      <td>uevola</td>\n",
       "      <td>None</td>\n",
       "      <td>None</td>\n",
       "    </tr>\n",
       "  </tbody>\n",
       "</table>\n",
       "</div>"
      ],
      "text/plain": [
       "                         id       nom   prenom     pseudo   mdp equipes\n",
       "0  64a41b3bafd74071b415f699    Masson      Léa    lmasson  None    None\n",
       "1  64a41b51afd74071b415f69a  Iavarone    Louis  liavarone  None    None\n",
       "2  64a41b74afd74071b415f69b  Kourouma     Paul  pkourouma  None    None\n",
       "3  64a41b82afd74071b415f69c     Touré  William     wtoure  None    None\n",
       "4  64a41b90afd74071b415f69d     Evola      Ugo     uevola  None    None"
      ]
     },
     "execution_count": 13,
     "metadata": {},
     "output_type": "execute_result"
    }
   ],
   "source": [
    "url = membres_endpoints\n",
    "response = rq.get(url)\n",
    "print(response.json())\n",
    "df = pd.json_normalize(response.json())\n",
    "df"
   ]
  }
 ],
 "metadata": {
  "kernelspec": {
   "display_name": "Python 3",
   "language": "python",
   "name": "python3"
  },
  "language_info": {
   "codemirror_mode": {
    "name": "ipython",
    "version": 3
   },
   "file_extension": ".py",
   "mimetype": "text/x-python",
   "name": "python",
   "nbconvert_exporter": "python",
   "pygments_lexer": "ipython3",
   "version": "3.11.4"
  },
  "orig_nbformat": 4
 },
 "nbformat": 4,
 "nbformat_minor": 2
}
