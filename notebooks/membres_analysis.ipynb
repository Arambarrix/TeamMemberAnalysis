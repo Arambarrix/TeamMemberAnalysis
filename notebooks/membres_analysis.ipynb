{
 "cells": [
  {
   "attachments": {},
   "cell_type": "markdown",
   "metadata": {},
   "source": [
    "# ANALYSE DES DONNEES DES MEMBRES"
   ]
  },
  {
   "cell_type": "code",
   "execution_count": 1,
   "metadata": {},
   "outputs": [
    {
     "name": "stdout",
     "output_type": "stream",
     "text": [
      "http://localhost:8080/api/utilisateurs\n"
     ]
    }
   ],
   "source": [
    "#Récupération de l'endpoint des membres\n",
    "import sys,requests as rq,pandas as pd\n",
    "sys.path.insert(0,\"../projectanalysis\")\n",
    "from config import membres_endpoints as endpoint\n",
    "print(endpoint)\n",
    "\n"
   ]
  },
  {
   "cell_type": "code",
   "execution_count": 3,
   "metadata": {},
   "outputs": [
    {
     "name": "stdout",
     "output_type": "stream",
     "text": [
      "[{'id': 52, 'nom': 'Kourouma', 'prenom': 'Paul', 'pseudo': 'paulo', 'motDePasse': '$2a$10$LJeszjDKVu16iyPKtruRb.hTvKS0sUJqe98asFdDI6lEMhZpDV3qG', 'role': 'ADMIN', 'actif': None, 'photo': None, 'equipes': []}, {'id': 53, 'nom': 'Kourouma', 'prenom': 'Paul', 'pseudo': 'paulo', 'motDePasse': '$2a$10$yytu5rN94m/TU6Nvxm8g1ubdHWpGA0QrGxuIT1xegao0YR6ufx6wC', 'role': 'ADMIN', 'actif': None, 'photo': None, 'equipes': []}]\n"
     ]
    },
    {
     "data": {
      "text/html": [
       "<div>\n",
       "<style scoped>\n",
       "    .dataframe tbody tr th:only-of-type {\n",
       "        vertical-align: middle;\n",
       "    }\n",
       "\n",
       "    .dataframe tbody tr th {\n",
       "        vertical-align: top;\n",
       "    }\n",
       "\n",
       "    .dataframe thead th {\n",
       "        text-align: right;\n",
       "    }\n",
       "</style>\n",
       "<table border=\"1\" class=\"dataframe\">\n",
       "  <thead>\n",
       "    <tr style=\"text-align: right;\">\n",
       "      <th></th>\n",
       "      <th>id</th>\n",
       "      <th>nom</th>\n",
       "      <th>prenom</th>\n",
       "      <th>pseudo</th>\n",
       "      <th>motDePasse</th>\n",
       "      <th>role</th>\n",
       "      <th>actif</th>\n",
       "      <th>photo</th>\n",
       "      <th>equipes</th>\n",
       "    </tr>\n",
       "  </thead>\n",
       "  <tbody>\n",
       "    <tr>\n",
       "      <th>0</th>\n",
       "      <td>52</td>\n",
       "      <td>Kourouma</td>\n",
       "      <td>Paul</td>\n",
       "      <td>paulo</td>\n",
       "      <td>$2a$10$LJeszjDKVu16iyPKtruRb.hTvKS0sUJqe98asFd...</td>\n",
       "      <td>ADMIN</td>\n",
       "      <td>None</td>\n",
       "      <td>None</td>\n",
       "      <td>[]</td>\n",
       "    </tr>\n",
       "    <tr>\n",
       "      <th>1</th>\n",
       "      <td>53</td>\n",
       "      <td>Kourouma</td>\n",
       "      <td>Paul</td>\n",
       "      <td>paulo</td>\n",
       "      <td>$2a$10$yytu5rN94m/TU6Nvxm8g1ubdHWpGA0QrGxuIT1x...</td>\n",
       "      <td>ADMIN</td>\n",
       "      <td>None</td>\n",
       "      <td>None</td>\n",
       "      <td>[]</td>\n",
       "    </tr>\n",
       "  </tbody>\n",
       "</table>\n",
       "</div>"
      ],
      "text/plain": [
       "   id       nom prenom pseudo  \\\n",
       "0  52  Kourouma   Paul  paulo   \n",
       "1  53  Kourouma   Paul  paulo   \n",
       "\n",
       "                                          motDePasse   role actif photo  \\\n",
       "0  $2a$10$LJeszjDKVu16iyPKtruRb.hTvKS0sUJqe98asFd...  ADMIN  None  None   \n",
       "1  $2a$10$yytu5rN94m/TU6Nvxm8g1ubdHWpGA0QrGxuIT1x...  ADMIN  None  None   \n",
       "\n",
       "  equipes  \n",
       "0      []  \n",
       "1      []  "
      ]
     },
     "execution_count": 3,
     "metadata": {},
     "output_type": "execute_result"
    }
   ],
   "source": [
    "# Récupération des données fixes sur les membres\n",
    "response = rq.get(endpoint)\n",
    "print(response.json())\n",
    "df = pd.json_normalize(response.json())\n",
    "df"
   ]
  }
 ],
 "metadata": {
  "kernelspec": {
   "display_name": "Python 3",
   "language": "python",
   "name": "python3"
  },
  "language_info": {
   "codemirror_mode": {
    "name": "ipython",
    "version": 3
   },
   "file_extension": ".py",
   "mimetype": "text/x-python",
   "name": "python",
   "nbconvert_exporter": "python",
   "pygments_lexer": "ipython3",
   "version": "3.11.4"
  },
  "orig_nbformat": 4
 },
 "nbformat": 4,
 "nbformat_minor": 2
}
